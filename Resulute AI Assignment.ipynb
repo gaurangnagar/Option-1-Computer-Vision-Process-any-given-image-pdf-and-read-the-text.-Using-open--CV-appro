{
 "cells": [
  {
   "cell_type": "markdown",
   "id": "1f03dce6",
   "metadata": {},
   "source": [
    "# Option 1: Computer Vision\n",
    "\n",
    "Task1: Process any given image/pdf and read the text. Using open- CV approach and Py-tesseract only."
   ]
  },
  {
   "cell_type": "markdown",
   "id": "55bfcbd0",
   "metadata": {},
   "source": [
    "## User story:\n",
    "\n",
    "As a user I should be able to process images and extract the text from the image."
   ]
  },
  {
   "cell_type": "code",
   "execution_count": 1,
   "id": "14c42756",
   "metadata": {},
   "outputs": [],
   "source": [
    "# Need to install opencv and pytesseract\n",
    "import cv2                   # Import OpenCV\n",
    "import pytesseract           # Import Pytesseract"
   ]
  },
  {
   "cell_type": "code",
   "execution_count": 2,
   "id": "e6fc8a22",
   "metadata": {},
   "outputs": [],
   "source": [
    "# Path for the Tessseract-OCR in system files\n",
    "pytesseract.pytesseract.tesseract_cmd = 'C:\\Program Files\\Tesseract-OCR/tesseract'"
   ]
  },
  {
   "cell_type": "code",
   "execution_count": 3,
   "id": "2df8b078",
   "metadata": {},
   "outputs": [],
   "source": [
    "#Image path\n",
    "\n",
    "# Within \" \" you have to specift the path for the image to be read\n",
    "\n",
    "# For my system refernce path is \"C:\\Users\\goura\\Downloads\\Data.zip\\Data\\Task1\\1.jpg\"\n",
    "\n",
    "imagePath=r\"C:\\Users\\goura\\Downloads\\Data\\Data\\Task1\\1.jpg\""
   ]
  },
  {
   "cell_type": "code",
   "execution_count": 4,
   "id": "21917344",
   "metadata": {},
   "outputs": [],
   "source": [
    "# Load the image\n",
    "Image = cv2.imread(imagePath)"
   ]
  },
  {
   "cell_type": "code",
   "execution_count": 6,
   "id": "92f2127b",
   "metadata": {},
   "outputs": [],
   "source": [
    "# Pre-processing\n",
    "\n",
    "gray = cv2.cvtColor(Image, cv2.COLOR_BGR2GRAY)        # Convert imgae to gray scale image\n",
    "gray = cv2.medianBlur(gray, 3)                      # Blur the image"
   ]
  },
  {
   "cell_type": "code",
   "execution_count": 7,
   "id": "0fae4b48",
   "metadata": {},
   "outputs": [],
   "source": [
    "# Pass the image to Py-tesseract\n",
    "\n",
    "text = pytesseract.image_to_string(gray)"
   ]
  },
  {
   "cell_type": "code",
   "execution_count": 8,
   "id": "31817c16",
   "metadata": {},
   "outputs": [
    {
     "name": "stdout",
     "output_type": "stream",
     "text": [
      "Satisfied conveying an dependent contented he gentleman agreeable do be. Warrant\n",
      "private blushes removed an in equally totally if. Delivered dejection necessary\n",
      "objection do mr prevailed. Mr feeling do chiefly cordial in do. Water timed folly\n",
      "right aware if oh truth. Imprudence attachment him his for sympathize. Large above\n",
      "be to means, Dashwood do provided stronger is. But discretion frequently sir the\n",
      "she instrument unattected admiration everything,\n",
      "\n",
      "Her extensive perceived may amy sincerity extremity. Indeed add rather may pretty\n",
      "see, Old propriety delighted explained perceived otherwise objection saw ten her.\n",
      "Qoubt merit sir the right these alone keeps, By sometimes intention smallness he\n",
      "northward. Consisted we otherwise arranging commanded discovery it explained.\n",
      "Qoes cold even song like two yet been. Literature interested announcing for\n",
      "terminated him inquietude day shy. Himself he fertile chicken perhaps waiting if\n",
      "highest no it. Continued promotion has consulted fat improving not way.\n",
      "\n",
      "Far quitting dwelling graceful the likewise received building. An fact so to that\n",
      "show am shed sold cold. Unaffected remarkably get yet introduced excellence\n",
      "terminated led, Result either design san she esteem and. On ashamed no inhabit\n",
      "ferrars it ye besides resolve. Own judgment directly few trifling. Elderly as\n",
      "pursuit at regular do parlors. Rank what has into fond she,\n",
      "\n",
      "Of friendship on inhabiting diminution discovered as. Did friendly eat breeding\n",
      "building few nor. Gbject he barton no effect played valley afford, Period so to\n",
      "oppose we little seeing or branch. Announcing contrasted not imprudence add\n",
      "frequently you possession mrs. Period saw his houses square and misery. Hour had\n",
      "held lain give yet.\n",
      "\n"
     ]
    }
   ],
   "source": [
    "print(text)"
   ]
  }
 ],
 "metadata": {
  "kernelspec": {
   "display_name": "Python 3 (ipykernel)",
   "language": "python",
   "name": "python3"
  },
  "language_info": {
   "codemirror_mode": {
    "name": "ipython",
    "version": 3
   },
   "file_extension": ".py",
   "mimetype": "text/x-python",
   "name": "python",
   "nbconvert_exporter": "python",
   "pygments_lexer": "ipython3",
   "version": "3.9.13"
  }
 },
 "nbformat": 4,
 "nbformat_minor": 5
}
